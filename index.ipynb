{
 "cells": [
  {
   "cell_type": "markdown",
   "metadata": {},
   "source": [
    "# Project - EDA with Pandas Using the Boston Housing Data"
   ]
  },
  {
   "cell_type": "markdown",
   "metadata": {},
   "source": [
    "## Introduction\n",
    "\n",
    "In this section you've learned a lot about importing, cleaning up, analysing (using descriptive statistics) and visualizing data. In this more free form project you'll get a chance to practice all of these skills with the Boston Housing data set,  which contains housing values in suburbs of Boston. The Boston Housing Data is commonly used by aspiring data scientists.  "
   ]
  },
  {
   "cell_type": "markdown",
   "metadata": {},
   "source": [
    "## Objectives\n",
    "You will be able to:\n",
    "* Show mastery of the content covered in this section"
   ]
  },
  {
   "cell_type": "markdown",
   "metadata": {},
   "source": [
    "# Goals\n",
    "\n",
    "Use your data munging and visualization skills to conduct an exploratory analysis of the dataset below. At minimum, this should include:\n",
    "\n",
    "* Loading the data (which is stored in the file train.csv)\n",
    "* Use built-in python functions to explore measures of centrality and dispersion for at least 3 variables\n",
    "* Create *meaningful* subsets of the data using selection operations using `.loc`, `.iloc` or related operations. Explain why you used the chosen subsets and do this for 3 possible 2-way splits. State how you think the 2 measures of centrality and/or dispersion might be different for each subset of the data. Examples of potential splits:\n",
    "    - Create a 2 new dataframes based on your existing data, where one contains all the properties next to the Charles river, and the other one contains properties that aren't.\n",
    "    - Create 2 new datagrames based on a certain split for crime rate.\n",
    "* Next, use histograms and scatterplots to see whether you observe differences for the subsets of the data. Make sure to use subplots so it is easy to compare the relationships."
   ]
  },
  {
   "cell_type": "markdown",
   "metadata": {},
   "source": [
    "# Variable Descriptions\n",
    "\n",
    "This data frame contains the following columns:\n",
    "\n",
    "#### crim  \n",
    "per capita crime rate by town.\n",
    "\n",
    "#### zn  \n",
    "proportion of residential land zoned for lots over 25,000 sq.ft.\n",
    "\n",
    "#### indus  \n",
    "proportion of non-retail business acres per town.\n",
    "\n",
    "#### chas  \n",
    "Charles River dummy variable (= 1 if tract bounds river; 0 otherwise).\n",
    "\n",
    "#### nox  \n",
    "nitrogen oxides concentration (parts per 10 million).\n",
    "\n",
    "#### rm  \n",
    "average number of rooms per dwelling.\n",
    "\n",
    "#### age  \n",
    "proportion of owner-occupied units built prior to 1940.\n",
    "\n",
    "#### dis  \n",
    "weighted mean of distances to five Boston employment centres.\n",
    "\n",
    "#### rad  \n",
    "index of accessibility to radial highways.\n",
    "\n",
    "#### tax  \n",
    "full-value property-tax rate per $10,000.\n",
    "\n",
    "#### ptratio  \n",
    "pupil-teacher ratio by town.\n",
    "\n",
    "#### black  \n",
    "1000(Bk - 0.63)^2 where Bk is the proportion of blacks by town.\n",
    "\n",
    "#### lstat  \n",
    "lower status of the population (percent).\n",
    "\n",
    "#### medv  \n",
    "median value of owner-occupied homes in $10000s.\n",
    "  \n",
    "  \n",
    "  \n",
    "Source\n",
    "Harrison, D. and Rubinfeld, D.L. (1978) Hedonic prices and the demand for clean air. J. Environ. Economics and Management 5, 81–102.\n",
    "\n",
    "Belsley D.A., Kuh, E. and Welsch, R.E. (1980) Regression Diagnostics. Identifying Influential Data and Sources of Collinearity. New York: Wiley."
   ]
  },
  {
   "cell_type": "markdown",
   "metadata": {},
   "source": [
    "## Summary\n",
    "\n",
    "Congratulations, you've completed your first \"freeform\" exploratory data analysis of a popular data set!"
   ]
  },
  {
   "cell_type": "code",
   "execution_count": 126,
   "metadata": {},
   "outputs": [],
   "source": [
    "import pandas as pd \n",
    "import matplotlib.pyplot as plt\n",
    "%matplotlib inline"
   ]
  },
  {
   "cell_type": "code",
   "execution_count": 127,
   "metadata": {},
   "outputs": [
    {
     "data": {
      "text/html": [
       "<div>\n",
       "<style scoped>\n",
       "    .dataframe tbody tr th:only-of-type {\n",
       "        vertical-align: middle;\n",
       "    }\n",
       "\n",
       "    .dataframe tbody tr th {\n",
       "        vertical-align: top;\n",
       "    }\n",
       "\n",
       "    .dataframe thead th {\n",
       "        text-align: right;\n",
       "    }\n",
       "</style>\n",
       "<table border=\"1\" class=\"dataframe\">\n",
       "  <thead>\n",
       "    <tr style=\"text-align: right;\">\n",
       "      <th></th>\n",
       "      <th>ID</th>\n",
       "      <th>crim</th>\n",
       "      <th>zn</th>\n",
       "      <th>indus</th>\n",
       "      <th>chas</th>\n",
       "      <th>nox</th>\n",
       "      <th>rm</th>\n",
       "      <th>age</th>\n",
       "      <th>dis</th>\n",
       "      <th>rad</th>\n",
       "      <th>tax</th>\n",
       "      <th>ptratio</th>\n",
       "      <th>black</th>\n",
       "      <th>lstat</th>\n",
       "      <th>medv</th>\n",
       "    </tr>\n",
       "  </thead>\n",
       "  <tbody>\n",
       "    <tr>\n",
       "      <th>0</th>\n",
       "      <td>1</td>\n",
       "      <td>0.00632</td>\n",
       "      <td>18.0</td>\n",
       "      <td>2.31</td>\n",
       "      <td>0</td>\n",
       "      <td>0.538</td>\n",
       "      <td>6.575</td>\n",
       "      <td>65.2</td>\n",
       "      <td>4.0900</td>\n",
       "      <td>1</td>\n",
       "      <td>296</td>\n",
       "      <td>15.3</td>\n",
       "      <td>396.90</td>\n",
       "      <td>4.98</td>\n",
       "      <td>24.0</td>\n",
       "    </tr>\n",
       "    <tr>\n",
       "      <th>1</th>\n",
       "      <td>2</td>\n",
       "      <td>0.02731</td>\n",
       "      <td>0.0</td>\n",
       "      <td>7.07</td>\n",
       "      <td>0</td>\n",
       "      <td>0.469</td>\n",
       "      <td>6.421</td>\n",
       "      <td>78.9</td>\n",
       "      <td>4.9671</td>\n",
       "      <td>2</td>\n",
       "      <td>242</td>\n",
       "      <td>17.8</td>\n",
       "      <td>396.90</td>\n",
       "      <td>9.14</td>\n",
       "      <td>21.6</td>\n",
       "    </tr>\n",
       "    <tr>\n",
       "      <th>2</th>\n",
       "      <td>4</td>\n",
       "      <td>0.03237</td>\n",
       "      <td>0.0</td>\n",
       "      <td>2.18</td>\n",
       "      <td>0</td>\n",
       "      <td>0.458</td>\n",
       "      <td>6.998</td>\n",
       "      <td>45.8</td>\n",
       "      <td>6.0622</td>\n",
       "      <td>3</td>\n",
       "      <td>222</td>\n",
       "      <td>18.7</td>\n",
       "      <td>394.63</td>\n",
       "      <td>2.94</td>\n",
       "      <td>33.4</td>\n",
       "    </tr>\n",
       "    <tr>\n",
       "      <th>3</th>\n",
       "      <td>5</td>\n",
       "      <td>0.06905</td>\n",
       "      <td>0.0</td>\n",
       "      <td>2.18</td>\n",
       "      <td>0</td>\n",
       "      <td>0.458</td>\n",
       "      <td>7.147</td>\n",
       "      <td>54.2</td>\n",
       "      <td>6.0622</td>\n",
       "      <td>3</td>\n",
       "      <td>222</td>\n",
       "      <td>18.7</td>\n",
       "      <td>396.90</td>\n",
       "      <td>5.33</td>\n",
       "      <td>36.2</td>\n",
       "    </tr>\n",
       "    <tr>\n",
       "      <th>4</th>\n",
       "      <td>7</td>\n",
       "      <td>0.08829</td>\n",
       "      <td>12.5</td>\n",
       "      <td>7.87</td>\n",
       "      <td>0</td>\n",
       "      <td>0.524</td>\n",
       "      <td>6.012</td>\n",
       "      <td>66.6</td>\n",
       "      <td>5.5605</td>\n",
       "      <td>5</td>\n",
       "      <td>311</td>\n",
       "      <td>15.2</td>\n",
       "      <td>395.60</td>\n",
       "      <td>12.43</td>\n",
       "      <td>22.9</td>\n",
       "    </tr>\n",
       "  </tbody>\n",
       "</table>\n",
       "</div>"
      ],
      "text/plain": [
       "   ID     crim    zn  indus  chas    nox     rm   age     dis  rad  tax  \\\n",
       "0   1  0.00632  18.0   2.31     0  0.538  6.575  65.2  4.0900    1  296   \n",
       "1   2  0.02731   0.0   7.07     0  0.469  6.421  78.9  4.9671    2  242   \n",
       "2   4  0.03237   0.0   2.18     0  0.458  6.998  45.8  6.0622    3  222   \n",
       "3   5  0.06905   0.0   2.18     0  0.458  7.147  54.2  6.0622    3  222   \n",
       "4   7  0.08829  12.5   7.87     0  0.524  6.012  66.6  5.5605    5  311   \n",
       "\n",
       "   ptratio   black  lstat  medv  \n",
       "0     15.3  396.90   4.98  24.0  \n",
       "1     17.8  396.90   9.14  21.6  \n",
       "2     18.7  394.63   2.94  33.4  \n",
       "3     18.7  396.90   5.33  36.2  \n",
       "4     15.2  395.60  12.43  22.9  "
      ]
     },
     "execution_count": 127,
     "metadata": {},
     "output_type": "execute_result"
    }
   ],
   "source": [
    "bhd=pd.read_csv('train.csv')\n",
    "bhd.head()"
   ]
  },
  {
   "cell_type": "code",
   "execution_count": 128,
   "metadata": {},
   "outputs": [
    {
     "name": "stdout",
     "output_type": "stream",
     "text": [
      "<class 'pandas.core.frame.DataFrame'>\n",
      "RangeIndex: 333 entries, 0 to 332\n",
      "Data columns (total 15 columns):\n",
      "ID         333 non-null int64\n",
      "crim       333 non-null float64\n",
      "zn         333 non-null float64\n",
      "indus      333 non-null float64\n",
      "chas       333 non-null int64\n",
      "nox        333 non-null float64\n",
      "rm         333 non-null float64\n",
      "age        333 non-null float64\n",
      "dis        333 non-null float64\n",
      "rad        333 non-null int64\n",
      "tax        333 non-null int64\n",
      "ptratio    333 non-null float64\n",
      "black      333 non-null float64\n",
      "lstat      333 non-null float64\n",
      "medv       333 non-null float64\n",
      "dtypes: float64(11), int64(4)\n",
      "memory usage: 39.1 KB\n"
     ]
    }
   ],
   "source": [
    "bhd.info()"
   ]
  },
  {
   "cell_type": "markdown",
   "metadata": {},
   "source": [
    "all columns contain numerical values, no missing data, note: 'chas' is charles river proximity boolean stand-in"
   ]
  },
  {
   "cell_type": "code",
   "execution_count": 129,
   "metadata": {},
   "outputs": [
    {
     "data": {
      "text/html": [
       "<div>\n",
       "<style scoped>\n",
       "    .dataframe tbody tr th:only-of-type {\n",
       "        vertical-align: middle;\n",
       "    }\n",
       "\n",
       "    .dataframe tbody tr th {\n",
       "        vertical-align: top;\n",
       "    }\n",
       "\n",
       "    .dataframe thead th {\n",
       "        text-align: right;\n",
       "    }\n",
       "</style>\n",
       "<table border=\"1\" class=\"dataframe\">\n",
       "  <thead>\n",
       "    <tr style=\"text-align: right;\">\n",
       "      <th></th>\n",
       "      <th>ID</th>\n",
       "      <th>crim</th>\n",
       "      <th>zn</th>\n",
       "      <th>indus</th>\n",
       "      <th>chas</th>\n",
       "      <th>nox</th>\n",
       "      <th>rm</th>\n",
       "      <th>age</th>\n",
       "      <th>dis</th>\n",
       "      <th>rad</th>\n",
       "      <th>tax</th>\n",
       "      <th>ptratio</th>\n",
       "      <th>black</th>\n",
       "      <th>lstat</th>\n",
       "      <th>medv</th>\n",
       "    </tr>\n",
       "  </thead>\n",
       "  <tbody>\n",
       "    <tr>\n",
       "      <th>count</th>\n",
       "      <td>333.000000</td>\n",
       "      <td>333.000000</td>\n",
       "      <td>333.000000</td>\n",
       "      <td>333.000000</td>\n",
       "      <td>333.000000</td>\n",
       "      <td>333.000000</td>\n",
       "      <td>333.000000</td>\n",
       "      <td>333.000000</td>\n",
       "      <td>333.000000</td>\n",
       "      <td>333.000000</td>\n",
       "      <td>333.000000</td>\n",
       "      <td>333.000000</td>\n",
       "      <td>333.000000</td>\n",
       "      <td>333.000000</td>\n",
       "      <td>333.000000</td>\n",
       "    </tr>\n",
       "    <tr>\n",
       "      <th>mean</th>\n",
       "      <td>250.951952</td>\n",
       "      <td>3.360341</td>\n",
       "      <td>10.689189</td>\n",
       "      <td>11.293483</td>\n",
       "      <td>0.060060</td>\n",
       "      <td>0.557144</td>\n",
       "      <td>6.265619</td>\n",
       "      <td>68.226426</td>\n",
       "      <td>3.709934</td>\n",
       "      <td>9.633634</td>\n",
       "      <td>409.279279</td>\n",
       "      <td>18.448048</td>\n",
       "      <td>359.466096</td>\n",
       "      <td>12.515435</td>\n",
       "      <td>22.768769</td>\n",
       "    </tr>\n",
       "    <tr>\n",
       "      <th>std</th>\n",
       "      <td>147.859438</td>\n",
       "      <td>7.352272</td>\n",
       "      <td>22.674762</td>\n",
       "      <td>6.998123</td>\n",
       "      <td>0.237956</td>\n",
       "      <td>0.114955</td>\n",
       "      <td>0.703952</td>\n",
       "      <td>28.133344</td>\n",
       "      <td>1.981123</td>\n",
       "      <td>8.742174</td>\n",
       "      <td>170.841988</td>\n",
       "      <td>2.151821</td>\n",
       "      <td>86.584567</td>\n",
       "      <td>7.067781</td>\n",
       "      <td>9.173468</td>\n",
       "    </tr>\n",
       "    <tr>\n",
       "      <th>min</th>\n",
       "      <td>1.000000</td>\n",
       "      <td>0.006320</td>\n",
       "      <td>0.000000</td>\n",
       "      <td>0.740000</td>\n",
       "      <td>0.000000</td>\n",
       "      <td>0.385000</td>\n",
       "      <td>3.561000</td>\n",
       "      <td>6.000000</td>\n",
       "      <td>1.129600</td>\n",
       "      <td>1.000000</td>\n",
       "      <td>188.000000</td>\n",
       "      <td>12.600000</td>\n",
       "      <td>3.500000</td>\n",
       "      <td>1.730000</td>\n",
       "      <td>5.000000</td>\n",
       "    </tr>\n",
       "    <tr>\n",
       "      <th>25%</th>\n",
       "      <td>123.000000</td>\n",
       "      <td>0.078960</td>\n",
       "      <td>0.000000</td>\n",
       "      <td>5.130000</td>\n",
       "      <td>0.000000</td>\n",
       "      <td>0.453000</td>\n",
       "      <td>5.884000</td>\n",
       "      <td>45.400000</td>\n",
       "      <td>2.122400</td>\n",
       "      <td>4.000000</td>\n",
       "      <td>279.000000</td>\n",
       "      <td>17.400000</td>\n",
       "      <td>376.730000</td>\n",
       "      <td>7.180000</td>\n",
       "      <td>17.400000</td>\n",
       "    </tr>\n",
       "    <tr>\n",
       "      <th>50%</th>\n",
       "      <td>244.000000</td>\n",
       "      <td>0.261690</td>\n",
       "      <td>0.000000</td>\n",
       "      <td>9.900000</td>\n",
       "      <td>0.000000</td>\n",
       "      <td>0.538000</td>\n",
       "      <td>6.202000</td>\n",
       "      <td>76.700000</td>\n",
       "      <td>3.092300</td>\n",
       "      <td>5.000000</td>\n",
       "      <td>330.000000</td>\n",
       "      <td>19.000000</td>\n",
       "      <td>392.050000</td>\n",
       "      <td>10.970000</td>\n",
       "      <td>21.600000</td>\n",
       "    </tr>\n",
       "    <tr>\n",
       "      <th>75%</th>\n",
       "      <td>377.000000</td>\n",
       "      <td>3.678220</td>\n",
       "      <td>12.500000</td>\n",
       "      <td>18.100000</td>\n",
       "      <td>0.000000</td>\n",
       "      <td>0.631000</td>\n",
       "      <td>6.595000</td>\n",
       "      <td>93.800000</td>\n",
       "      <td>5.116700</td>\n",
       "      <td>24.000000</td>\n",
       "      <td>666.000000</td>\n",
       "      <td>20.200000</td>\n",
       "      <td>396.240000</td>\n",
       "      <td>16.420000</td>\n",
       "      <td>25.000000</td>\n",
       "    </tr>\n",
       "    <tr>\n",
       "      <th>max</th>\n",
       "      <td>506.000000</td>\n",
       "      <td>73.534100</td>\n",
       "      <td>100.000000</td>\n",
       "      <td>27.740000</td>\n",
       "      <td>1.000000</td>\n",
       "      <td>0.871000</td>\n",
       "      <td>8.725000</td>\n",
       "      <td>100.000000</td>\n",
       "      <td>10.710300</td>\n",
       "      <td>24.000000</td>\n",
       "      <td>711.000000</td>\n",
       "      <td>21.200000</td>\n",
       "      <td>396.900000</td>\n",
       "      <td>37.970000</td>\n",
       "      <td>50.000000</td>\n",
       "    </tr>\n",
       "  </tbody>\n",
       "</table>\n",
       "</div>"
      ],
      "text/plain": [
       "               ID        crim          zn       indus        chas         nox  \\\n",
       "count  333.000000  333.000000  333.000000  333.000000  333.000000  333.000000   \n",
       "mean   250.951952    3.360341   10.689189   11.293483    0.060060    0.557144   \n",
       "std    147.859438    7.352272   22.674762    6.998123    0.237956    0.114955   \n",
       "min      1.000000    0.006320    0.000000    0.740000    0.000000    0.385000   \n",
       "25%    123.000000    0.078960    0.000000    5.130000    0.000000    0.453000   \n",
       "50%    244.000000    0.261690    0.000000    9.900000    0.000000    0.538000   \n",
       "75%    377.000000    3.678220   12.500000   18.100000    0.000000    0.631000   \n",
       "max    506.000000   73.534100  100.000000   27.740000    1.000000    0.871000   \n",
       "\n",
       "               rm         age         dis         rad         tax     ptratio  \\\n",
       "count  333.000000  333.000000  333.000000  333.000000  333.000000  333.000000   \n",
       "mean     6.265619   68.226426    3.709934    9.633634  409.279279   18.448048   \n",
       "std      0.703952   28.133344    1.981123    8.742174  170.841988    2.151821   \n",
       "min      3.561000    6.000000    1.129600    1.000000  188.000000   12.600000   \n",
       "25%      5.884000   45.400000    2.122400    4.000000  279.000000   17.400000   \n",
       "50%      6.202000   76.700000    3.092300    5.000000  330.000000   19.000000   \n",
       "75%      6.595000   93.800000    5.116700   24.000000  666.000000   20.200000   \n",
       "max      8.725000  100.000000   10.710300   24.000000  711.000000   21.200000   \n",
       "\n",
       "            black       lstat        medv  \n",
       "count  333.000000  333.000000  333.000000  \n",
       "mean   359.466096   12.515435   22.768769  \n",
       "std     86.584567    7.067781    9.173468  \n",
       "min      3.500000    1.730000    5.000000  \n",
       "25%    376.730000    7.180000   17.400000  \n",
       "50%    392.050000   10.970000   21.600000  \n",
       "75%    396.240000   16.420000   25.000000  \n",
       "max    396.900000   37.970000   50.000000  "
      ]
     },
     "execution_count": 129,
     "metadata": {},
     "output_type": "execute_result"
    }
   ],
   "source": [
    "bhd.describe()"
   ]
  },
  {
   "cell_type": "code",
   "execution_count": 130,
   "metadata": {},
   "outputs": [
    {
     "data": {
      "text/plain": [
       "0    313\n",
       "1     20\n",
       "Name: chas, dtype: int64"
      ]
     },
     "execution_count": 130,
     "metadata": {},
     "output_type": "execute_result"
    }
   ],
   "source": [
    "bhd.chas.value_counts()#(normalize=True)"
   ]
  },
  {
   "cell_type": "markdown",
   "metadata": {},
   "source": [
    "relatively few entries border charles river. 20 entries =~6%"
   ]
  },
  {
   "cell_type": "markdown",
   "metadata": {},
   "source": [
    "medv (median house value) appears to have very normal distribution, median and mean close together."
   ]
  },
  {
   "cell_type": "code",
   "execution_count": 131,
   "metadata": {},
   "outputs": [],
   "source": [
    "bhd=bhd.drop(columns='ID') #drop ID column. seems pointless"
   ]
  },
  {
   "cell_type": "code",
   "execution_count": 132,
   "metadata": {},
   "outputs": [
    {
     "data": {
      "image/png": "[encoded data removed]",
      "text/plain": [
       "<Figure size 432x288 with 196 Axes>"
      ]
     },
     "metadata": {
      "needs_background": "light"
     },
     "output_type": "display_data"
    }
   ],
   "source": [
    "pd.plotting.scatter_matrix(bhd)\n",
    "plt.show() #hard to read but shows some correlations and data splitting"
   ]
  },
  {
   "cell_type": "code",
   "execution_count": 133,
   "metadata": {},
   "outputs": [
    {
     "data": {
      "image/png": "[encoded data removed]",
      "text/plain": [
       "<Figure size 432x288 with 16 Axes>"
      ]
     },
     "metadata": {
      "needs_background": "light"
     },
     "output_type": "display_data"
    }
   ],
   "source": [
    "bhd.hist()\n",
    "plt.show()"
   ]
  },
  {
   "cell_type": "code",
   "execution_count": 134,
   "metadata": {},
   "outputs": [
    {
     "data": {
      "image/png": "[encoded data removed]",
      "text/plain": [
       "<Figure size 432x288 with 1 Axes>"
      ]
     },
     "metadata": {
      "needs_background": "light"
     },
     "output_type": "display_data"
    }
   ],
   "source": [
    "plt.scatter(bhd.lstat,bhd.medv)\n",
    "plt.title('Median House Value vs Lower Status')\n",
    "plt.xlabel('Lower Status of Population (%)')\n",
    "plt.ylabel('Median House value (in $10,000s)')\n",
    "plt.show()"
   ]
  },
  {
   "cell_type": "markdown",
   "metadata": {},
   "source": [
    "Cheaper houses in lowers status neighbourhoods - to be expected\n"
   ]
  },
  {
   "cell_type": "code",
   "execution_count": 135,
   "metadata": {},
   "outputs": [
    {
     "data": {
      "image/png": "[encoded data removed]",
      "text/plain": [
       "<Figure size 432x288 with 1 Axes>"
      ]
     },
     "metadata": {
      "needs_background": "light"
     },
     "output_type": "display_data"
    }
   ],
   "source": [
    "plt.scatter(bhd.rm,bhd.medv)\n",
    "plt.title('Median House Value vs Number of Rooms')\n",
    "plt.xlabel('Number of Rooms per Dwelling (%)')\n",
    "plt.ylabel('Median House value (in $10,000s)')\n",
    "plt.show()"
   ]
  },
  {
   "cell_type": "markdown",
   "metadata": {},
   "source": [
    "big houses (with lots of rooms) are expensive - to be expected"
   ]
  },
  {
   "cell_type": "code",
   "execution_count": 136,
   "metadata": {},
   "outputs": [
    {
     "data": {
      "text/plain": [
       "0.0      248\n",
       "20.0      14\n",
       "25.0       7\n",
       "80.0       7\n",
       "22.0       7\n",
       "12.5       6\n",
       "45.0       5\n",
       "30.0       3\n",
       "90.0       3\n",
       "95.0       3\n",
       "60.0       3\n",
       "33.0       3\n",
       "55.0       3\n",
       "75.0       3\n",
       "34.0       3\n",
       "21.0       3\n",
       "40.0       2\n",
       "28.0       2\n",
       "85.0       2\n",
       "35.0       1\n",
       "100.0      1\n",
       "17.5       1\n",
       "82.5       1\n",
       "52.5       1\n",
       "18.0       1\n",
       "Name: zn, dtype: int64"
      ]
     },
     "execution_count": 136,
     "metadata": {},
     "output_type": "execute_result"
    }
   ],
   "source": [
    "bhd.zn.value_counts()"
   ]
  },
  {
   "cell_type": "markdown",
   "metadata": {},
   "source": [
    "can be be split into zero and non-zero values - large residential plots f"
   ]
  },
  {
   "cell_type": "code",
   "execution_count": null,
   "metadata": {},
   "outputs": [],
   "source": []
  },
  {
   "cell_type": "markdown",
   "metadata": {},
   "source": [
    "Split by Crime Rate"
   ]
  },
  {
   "cell_type": "code",
   "execution_count": 137,
   "metadata": {},
   "outputs": [
    {
     "data": {
      "text/plain": [
       "count    333.000000\n",
       "mean       3.360341\n",
       "std        7.352272\n",
       "min        0.006320\n",
       "25%        0.078960\n",
       "50%        0.261690\n",
       "75%        3.678220\n",
       "max       73.534100\n",
       "Name: crim, dtype: float64"
      ]
     },
     "execution_count": 137,
     "metadata": {},
     "output_type": "execute_result"
    }
   ],
   "source": [
    "bhd.crim.describe()"
   ]
  },
  {
   "cell_type": "markdown",
   "metadata": {},
   "source": [
    "highly skewed data set, outliers go out to 73 but 75% of data below 3.6. Many neighbourhoods have a very low crime rate, there are some very high crime rate areas which appear as outliers ofr this variable."
   ]
  },
  {
   "cell_type": "code",
   "execution_count": 138,
   "metadata": {},
   "outputs": [
    {
     "data": {
      "text/html": [
       "<div>\n",
       "<style scoped>\n",
       "    .dataframe tbody tr th:only-of-type {\n",
       "        vertical-align: middle;\n",
       "    }\n",
       "\n",
       "    .dataframe tbody tr th {\n",
       "        vertical-align: top;\n",
       "    }\n",
       "\n",
       "    .dataframe thead th {\n",
       "        text-align: right;\n",
       "    }\n",
       "</style>\n",
       "<table border=\"1\" class=\"dataframe\">\n",
       "  <thead>\n",
       "    <tr style=\"text-align: right;\">\n",
       "      <th></th>\n",
       "      <th>crim</th>\n",
       "      <th>zn</th>\n",
       "      <th>indus</th>\n",
       "      <th>chas</th>\n",
       "      <th>nox</th>\n",
       "      <th>rm</th>\n",
       "      <th>age</th>\n",
       "      <th>dis</th>\n",
       "      <th>rad</th>\n",
       "      <th>tax</th>\n",
       "      <th>ptratio</th>\n",
       "      <th>black</th>\n",
       "      <th>lstat</th>\n",
       "      <th>medv</th>\n",
       "    </tr>\n",
       "  </thead>\n",
       "  <tbody>\n",
       "    <tr>\n",
       "      <th>255</th>\n",
       "      <td>22.5971</td>\n",
       "      <td>0.0</td>\n",
       "      <td>18.1</td>\n",
       "      <td>0</td>\n",
       "      <td>0.700</td>\n",
       "      <td>5.000</td>\n",
       "      <td>89.5</td>\n",
       "      <td>1.5184</td>\n",
       "      <td>24</td>\n",
       "      <td>666</td>\n",
       "      <td>20.2</td>\n",
       "      <td>396.90</td>\n",
       "      <td>31.99</td>\n",
       "      <td>7.4</td>\n",
       "    </tr>\n",
       "    <tr>\n",
       "      <th>254</th>\n",
       "      <td>24.3938</td>\n",
       "      <td>0.0</td>\n",
       "      <td>18.1</td>\n",
       "      <td>0</td>\n",
       "      <td>0.700</td>\n",
       "      <td>4.652</td>\n",
       "      <td>100.0</td>\n",
       "      <td>1.4672</td>\n",
       "      <td>24</td>\n",
       "      <td>666</td>\n",
       "      <td>20.2</td>\n",
       "      <td>396.90</td>\n",
       "      <td>28.28</td>\n",
       "      <td>10.5</td>\n",
       "    </tr>\n",
       "    <tr>\n",
       "      <th>264</th>\n",
       "      <td>24.8017</td>\n",
       "      <td>0.0</td>\n",
       "      <td>18.1</td>\n",
       "      <td>0</td>\n",
       "      <td>0.693</td>\n",
       "      <td>5.349</td>\n",
       "      <td>96.0</td>\n",
       "      <td>1.7028</td>\n",
       "      <td>24</td>\n",
       "      <td>666</td>\n",
       "      <td>20.2</td>\n",
       "      <td>396.90</td>\n",
       "      <td>19.77</td>\n",
       "      <td>8.3</td>\n",
       "    </tr>\n",
       "    <tr>\n",
       "      <th>262</th>\n",
       "      <td>25.0461</td>\n",
       "      <td>0.0</td>\n",
       "      <td>18.1</td>\n",
       "      <td>0</td>\n",
       "      <td>0.693</td>\n",
       "      <td>5.987</td>\n",
       "      <td>100.0</td>\n",
       "      <td>1.5888</td>\n",
       "      <td>24</td>\n",
       "      <td>666</td>\n",
       "      <td>20.2</td>\n",
       "      <td>396.90</td>\n",
       "      <td>26.77</td>\n",
       "      <td>5.6</td>\n",
       "    </tr>\n",
       "    <tr>\n",
       "      <th>270</th>\n",
       "      <td>25.9406</td>\n",
       "      <td>0.0</td>\n",
       "      <td>18.1</td>\n",
       "      <td>0</td>\n",
       "      <td>0.679</td>\n",
       "      <td>5.304</td>\n",
       "      <td>89.1</td>\n",
       "      <td>1.6475</td>\n",
       "      <td>24</td>\n",
       "      <td>666</td>\n",
       "      <td>20.2</td>\n",
       "      <td>127.36</td>\n",
       "      <td>26.64</td>\n",
       "      <td>10.4</td>\n",
       "    </tr>\n",
       "    <tr>\n",
       "      <th>267</th>\n",
       "      <td>28.6558</td>\n",
       "      <td>0.0</td>\n",
       "      <td>18.1</td>\n",
       "      <td>0</td>\n",
       "      <td>0.597</td>\n",
       "      <td>5.155</td>\n",
       "      <td>100.0</td>\n",
       "      <td>1.5894</td>\n",
       "      <td>24</td>\n",
       "      <td>666</td>\n",
       "      <td>20.2</td>\n",
       "      <td>210.97</td>\n",
       "      <td>20.08</td>\n",
       "      <td>16.3</td>\n",
       "    </tr>\n",
       "    <tr>\n",
       "      <th>275</th>\n",
       "      <td>37.6619</td>\n",
       "      <td>0.0</td>\n",
       "      <td>18.1</td>\n",
       "      <td>0</td>\n",
       "      <td>0.679</td>\n",
       "      <td>6.202</td>\n",
       "      <td>78.7</td>\n",
       "      <td>1.8629</td>\n",
       "      <td>24</td>\n",
       "      <td>666</td>\n",
       "      <td>20.2</td>\n",
       "      <td>18.82</td>\n",
       "      <td>14.52</td>\n",
       "      <td>10.9</td>\n",
       "    </tr>\n",
       "    <tr>\n",
       "      <th>261</th>\n",
       "      <td>38.3518</td>\n",
       "      <td>0.0</td>\n",
       "      <td>18.1</td>\n",
       "      <td>0</td>\n",
       "      <td>0.693</td>\n",
       "      <td>5.453</td>\n",
       "      <td>100.0</td>\n",
       "      <td>1.4896</td>\n",
       "      <td>24</td>\n",
       "      <td>666</td>\n",
       "      <td>20.2</td>\n",
       "      <td>396.90</td>\n",
       "      <td>30.59</td>\n",
       "      <td>5.0</td>\n",
       "    </tr>\n",
       "    <tr>\n",
       "      <th>268</th>\n",
       "      <td>45.7461</td>\n",
       "      <td>0.0</td>\n",
       "      <td>18.1</td>\n",
       "      <td>0</td>\n",
       "      <td>0.693</td>\n",
       "      <td>4.519</td>\n",
       "      <td>100.0</td>\n",
       "      <td>1.6582</td>\n",
       "      <td>24</td>\n",
       "      <td>666</td>\n",
       "      <td>20.2</td>\n",
       "      <td>88.27</td>\n",
       "      <td>36.98</td>\n",
       "      <td>7.0</td>\n",
       "    </tr>\n",
       "    <tr>\n",
       "      <th>271</th>\n",
       "      <td>73.5341</td>\n",
       "      <td>0.0</td>\n",
       "      <td>18.1</td>\n",
       "      <td>0</td>\n",
       "      <td>0.679</td>\n",
       "      <td>5.957</td>\n",
       "      <td>100.0</td>\n",
       "      <td>1.8026</td>\n",
       "      <td>24</td>\n",
       "      <td>666</td>\n",
       "      <td>20.2</td>\n",
       "      <td>16.45</td>\n",
       "      <td>20.62</td>\n",
       "      <td>8.8</td>\n",
       "    </tr>\n",
       "  </tbody>\n",
       "</table>\n",
       "</div>"
      ],
      "text/plain": [
       "        crim   zn  indus  chas    nox     rm    age     dis  rad  tax  \\\n",
       "255  22.5971  0.0   18.1     0  0.700  5.000   89.5  1.5184   24  666   \n",
       "254  24.3938  0.0   18.1     0  0.700  4.652  100.0  1.4672   24  666   \n",
       "264  24.8017  0.0   18.1     0  0.693  5.349   96.0  1.7028   24  666   \n",
       "262  25.0461  0.0   18.1     0  0.693  5.987  100.0  1.5888   24  666   \n",
       "270  25.9406  0.0   18.1     0  0.679  5.304   89.1  1.6475   24  666   \n",
       "267  28.6558  0.0   18.1     0  0.597  5.155  100.0  1.5894   24  666   \n",
       "275  37.6619  0.0   18.1     0  0.679  6.202   78.7  1.8629   24  666   \n",
       "261  38.3518  0.0   18.1     0  0.693  5.453  100.0  1.4896   24  666   \n",
       "268  45.7461  0.0   18.1     0  0.693  4.519  100.0  1.6582   24  666   \n",
       "271  73.5341  0.0   18.1     0  0.679  5.957  100.0  1.8026   24  666   \n",
       "\n",
       "     ptratio   black  lstat  medv  \n",
       "255     20.2  396.90  31.99   7.4  \n",
       "254     20.2  396.90  28.28  10.5  \n",
       "264     20.2  396.90  19.77   8.3  \n",
       "262     20.2  396.90  26.77   5.6  \n",
       "270     20.2  127.36  26.64  10.4  \n",
       "267     20.2  210.97  20.08  16.3  \n",
       "275     20.2   18.82  14.52  10.9  \n",
       "261     20.2  396.90  30.59   5.0  \n",
       "268     20.2   88.27  36.98   7.0  \n",
       "271     20.2   16.45  20.62   8.8  "
      ]
     },
     "execution_count": 138,
     "metadata": {},
     "output_type": "execute_result"
    }
   ],
   "source": [
    "bhd.sort_values(['crim']).tail(10) #bottom 4 scores stand out from the pack, "
   ]
  },
  {
   "cell_type": "code",
   "execution_count": null,
   "metadata": {},
   "outputs": [],
   "source": []
  },
  {
   "cell_type": "code",
   "execution_count": 139,
   "metadata": {},
   "outputs": [
    {
     "data": {
      "image/png": "[encoded data removed]",
      "text/plain": [
       "<Figure size 1008x504 with 2 Axes>"
      ]
     },
     "metadata": {
      "needs_background": "light"
     },
     "output_type": "display_data"
    }
   ],
   "source": [
    "bhdcrimfig=plt.figure(figsize=(14,7))\n",
    "ax1= bhdcrimfig.add_subplot(121)      \n",
    "ax1.hist(bhd.crim[bhd.crim<6],bins =50)\n",
    "ax1.set_title('Crime rate detailed view (below 6 & 50 bins)')\n",
    "ax2=bhdcrimfig.add_subplot(122)\n",
    "ax2.hist(bhd.crim)\n",
    "ax2.set_title('Crime rate full histogram (10 bins)')\n",
    "plt.show()"
   ]
  },
  {
   "cell_type": "markdown",
   "metadata": {},
   "source": [
    "split dataset by crime rate above and below 1"
   ]
  },
  {
   "cell_type": "code",
   "execution_count": 140,
   "metadata": {},
   "outputs": [
    {
     "name": "stdout",
     "output_type": "stream",
     "text": [
      "low crime:\n",
      "              crim          zn       indus        chas         nox          rm  \\\n",
      "count  215.000000  215.000000  215.000000  215.000000  215.000000  215.000000   \n",
      "mean     0.190162   16.555814    7.694093    0.051163    0.492293    6.438981   \n",
      "std      0.207554   26.458734    5.986247    0.220844    0.065747    0.638806   \n",
      "min      0.006320    0.000000    0.740000    0.000000    0.385000    5.093000   \n",
      "25%      0.053370    0.000000    3.970000    0.000000    0.437000    5.983000   \n",
      "50%      0.111320    0.000000    6.090000    0.000000    0.489000    6.315000   \n",
      "75%      0.235360   22.000000    9.900000    0.000000    0.538000    6.760000   \n",
      "max      0.988430  100.000000   27.740000    1.000000    0.647000    8.725000   \n",
      "\n",
      "              age         dis         rad         tax     ptratio       black  \\\n",
      "count  215.000000  215.000000  215.000000  215.000000  215.000000  215.000000   \n",
      "mean    56.492093    4.545132    4.441860  307.902326   18.000465  387.068930   \n",
      "std     26.976185    1.954518    1.781293   86.590694    2.021924   27.147193   \n",
      "min      6.000000    1.668600    1.000000  188.000000   12.600000   70.800000   \n",
      "25%     33.400000    2.851550    3.000000  253.000000   16.800000  388.570000   \n",
      "50%     56.800000    4.148000    4.000000  296.000000   18.300000  393.420000   \n",
      "75%     81.200000    5.922700    5.000000  330.000000   19.200000  396.375000   \n",
      "max    100.000000   10.710300    8.000000  711.000000   21.200000  396.900000   \n",
      "\n",
      "            lstat        medv  \n",
      "count  215.000000  215.000000  \n",
      "mean     9.748698   25.290233  \n",
      "std      5.057704    7.937310  \n",
      "min      1.980000    8.100000  \n",
      "25%      5.905000   19.950000  \n",
      "50%      8.940000   23.300000  \n",
      "75%     12.465000   29.050000  \n",
      "max     29.680000   50.000000   \n",
      " highcrime\n",
      "              crim     zn       indus        chas         nox          rm  \\\n",
      "count  118.000000  118.0  118.000000  118.000000  118.000000  118.000000   \n",
      "mean     9.136515    0.0   17.851695    0.076271    0.675305    5.949746   \n",
      "std     10.059485    0.0    2.497693    0.266563    0.088213    0.709874   \n",
      "min      1.053930    0.0    8.140000    0.000000    0.532000    3.561000   \n",
      "25%      2.844785    0.0   18.100000    0.000000    0.605000    5.599750   \n",
      "50%      5.848030    0.0   18.100000    0.000000    0.679000    6.076500   \n",
      "75%     10.999025    0.0   18.100000    0.000000    0.713000    6.338750   \n",
      "max     73.534100    0.0   21.890000    1.000000    0.871000    8.375000   \n",
      "\n",
      "             age         dis         rad         tax     ptratio       black  \\\n",
      "count  118.00000  118.000000  118.000000  118.000000  118.000000  118.000000   \n",
      "mean    89.60678    2.188175   19.093220  593.991525   19.263559  309.172797   \n",
      "std     14.17162    0.729750    8.442857  125.742410    2.150041  126.388758   \n",
      "min     29.30000    1.129600    4.000000  304.000000   14.700000    3.500000   \n",
      "25%     87.92500    1.650175    9.750000  494.250000   20.200000  275.615000   \n",
      "50%     94.65000    2.054700   24.000000  666.000000   20.200000  374.495000   \n",
      "75%     98.42500    2.515925   24.000000  666.000000   20.200000  395.275000   \n",
      "max    100.00000    4.498600   24.000000  666.000000   21.200000  396.900000   \n",
      "\n",
      "            lstat        medv  \n",
      "count  118.000000  118.000000  \n",
      "mean    17.556525   18.174576  \n",
      "std      7.433980    9.517839  \n",
      "min      1.730000    5.000000  \n",
      "25%     12.720000   12.700000  \n",
      "50%     16.840000   16.200000  \n",
      "75%     21.962500   21.400000  \n",
      "max     37.970000   50.000000  \n"
     ]
    }
   ],
   "source": [
    "bhdlowcrim=bhd.loc[bhd.crim<1]\n",
    "bhdhighcrim=bhd.loc[bhd.crim>=1]\n",
    "print('low crime:\\n',bhdlowcrim.describe(),'\\n','highcrime\\n',bhdhighcrim.describe())"
   ]
  },
  {
   "cell_type": "code",
   "execution_count": 141,
   "metadata": {},
   "outputs": [
    {
     "name": "stdout",
     "output_type": "stream",
     "text": [
      "differences in variable means(low-high)\n",
      " crim        -8.946353\n",
      "zn          16.555814\n",
      "indus      -10.157602\n",
      "chas        -0.025108\n",
      "nox         -0.183012\n",
      "rm           0.489236\n",
      "age        -33.114687\n",
      "dis          2.356957\n",
      "rad        -14.651360\n",
      "tax       -286.089200\n",
      "ptratio     -1.263094\n",
      "black       77.896134\n",
      "lstat       -7.807828\n",
      "medv         7.115656\n",
      "dtype: float64\n",
      "difference in means over variable range(low-high)\n",
      " crim      -0.121673\n",
      "zn         0.165558\n",
      "indus     -0.376207\n",
      "chas      -0.025108\n",
      "nox       -0.376568\n",
      "rm         0.094740\n",
      "age       -0.352284\n",
      "dis        0.246011\n",
      "rad       -0.637016\n",
      "tax       -0.547016\n",
      "ptratio   -0.146871\n",
      "black      0.198007\n",
      "lstat     -0.215448\n",
      "medv       0.158126\n",
      "dtype: float64\n",
      "\n",
      "differences in variable medians(low-high)\n",
      " crim        -5.73671\n",
      "zn           0.00000\n",
      "indus      -12.01000\n",
      "chas         0.00000\n",
      "nox         -0.19000\n",
      "rm           0.23850\n",
      "age        -37.85000\n",
      "dis          2.09330\n",
      "rad        -20.00000\n",
      "tax       -370.00000\n",
      "ptratio     -1.90000\n",
      "black       18.92500\n",
      "lstat       -7.90000\n",
      "medv         7.10000\n",
      "dtype: float64\n",
      "difference in medians  over variable range(low-high)\n",
      " crim      -0.078021\n",
      "zn         0.000000\n",
      "indus     -0.444815\n",
      "chas       0.000000\n",
      "nox       -0.390947\n",
      "rm         0.046185\n",
      "age       -0.402660\n",
      "dis        0.218491\n",
      "rad       -0.869565\n",
      "tax       -0.707457\n",
      "ptratio   -0.220930\n",
      "black      0.048106\n",
      "lstat     -0.217991\n",
      "medv       0.157778\n",
      "dtype: float64\n",
      "\n",
      "complete dataframe variable ranges\n",
      " crim        73.52778\n",
      "zn         100.00000\n",
      "indus       27.00000\n",
      "chas         1.00000\n",
      "nox          0.48600\n",
      "rm           5.16400\n",
      "age         94.00000\n",
      "dis          9.58070\n",
      "rad         23.00000\n",
      "tax        523.00000\n",
      "ptratio      8.60000\n",
      "black      393.40000\n",
      "lstat       36.24000\n",
      "medv        45.00000\n",
      "dtype: float64\n"
     ]
    }
   ],
   "source": [
    "print('differences in variable means(low-high)\\n', bhdlowcrim.mean()-bhdhighcrim.mean())\n",
    "print('difference in means over variable range(low-high)\\n',(bhdlowcrim.mean()-bhdhighcrim.mean())/(bhd.max()-bhd.min()))\n",
    "print('\\ndifferences in variable medians(low-high)\\n', bhdlowcrim.median()-bhdhighcrim.median())\n",
    "print('difference in medians  over variable range(low-high)\\n',(bhdlowcrim.median()-bhdhighcrim.median())/(bhd.max()-bhd.min()))\n",
    "print('\\ncomplete dataframe variable ranges\\n',bhd.max()-bhd.min())"
   ]
  },
  {
   "cell_type": "markdown",
   "metadata": {},
   "source": [
    "high crim areas have more industry, higher pollution levels (related?), older houses (less home building?),lower pupil to teacher ratios, distance to radial highways (less desirable suburbs?)"
   ]
  },
  {
   "cell_type": "code",
   "execution_count": 142,
   "metadata": {},
   "outputs": [
    {
     "name": "stdout",
     "output_type": "stream",
     "text": [
      "low crime:\n",
      " count    215.000000\n",
      "mean      25.290233\n",
      "std        7.937310\n",
      "min        8.100000\n",
      "25%       19.950000\n",
      "50%       23.300000\n",
      "75%       29.050000\n",
      "max       50.000000\n",
      "Name: medv, dtype: float64 \n",
      " highcrime\n",
      " count    118.000000\n",
      "mean      18.174576\n",
      "std        9.517839\n",
      "min        5.000000\n",
      "25%       12.700000\n",
      "50%       16.200000\n",
      "75%       21.400000\n",
      "max       50.000000\n",
      "Name: medv, dtype: float64\n"
     ]
    }
   ],
   "source": [
    "print('low crime:\\n',bhdlowcrim.medv.describe(),'\\n','highcrime\\n',bhdhighcrim.medv.describe())"
   ]
  },
  {
   "cell_type": "markdown",
   "metadata": {},
   "source": [
    "sginificant differences in meand and median house prices. low crime rate areas have a mean value of 25.3 and a median of 23.3 and high crime areas have a mean of 18.2 and median of 16.2\n",
    "areas of high crime have notably lower property values (may seem obvious...)"
   ]
  },
  {
   "cell_type": "code",
   "execution_count": 143,
   "metadata": {
    "scrolled": false
   },
   "outputs": [
    {
     "data": {
      "image/png": "[encoded data removed]",
      "text/plain": [
       "<Figure size 1008x504 with 2 Axes>"
      ]
     },
     "metadata": {
      "needs_background": "light"
     },
     "output_type": "display_data"
    }
   ],
   "source": [
    "bhdcrimmedv=plt.figure(figsize=(14,7))\n",
    "ax1= bhdcrimmedv.add_subplot(121)      \n",
    "ax1.hist(bhdlowcrim.medv,bins =20)\n",
    "ax1.set_title('Low Crime rate median housing prices')\n",
    "ax2=bhdcrimmedv.add_subplot(122)\n",
    "ax2.hist(bhdhighcrim.medv,bins=20)\n",
    "ax2.set_title('High Crime rate median housing prices')\n",
    "plt.show()"
   ]
  },
  {
   "cell_type": "code",
   "execution_count": 144,
   "metadata": {},
   "outputs": [
    {
     "data": {
      "text/html": [
       "<div>\n",
       "<style scoped>\n",
       "    .dataframe tbody tr th:only-of-type {\n",
       "        vertical-align: middle;\n",
       "    }\n",
       "\n",
       "    .dataframe tbody tr th {\n",
       "        vertical-align: top;\n",
       "    }\n",
       "\n",
       "    .dataframe thead th {\n",
       "        text-align: right;\n",
       "    }\n",
       "</style>\n",
       "<table border=\"1\" class=\"dataframe\">\n",
       "  <thead>\n",
       "    <tr style=\"text-align: right;\">\n",
       "      <th></th>\n",
       "      <th>crim</th>\n",
       "      <th>zn</th>\n",
       "      <th>indus</th>\n",
       "      <th>chas</th>\n",
       "      <th>nox</th>\n",
       "      <th>rm</th>\n",
       "      <th>age</th>\n",
       "      <th>dis</th>\n",
       "      <th>rad</th>\n",
       "      <th>tax</th>\n",
       "      <th>ptratio</th>\n",
       "      <th>black</th>\n",
       "      <th>lstat</th>\n",
       "      <th>medv</th>\n",
       "    </tr>\n",
       "  </thead>\n",
       "  <tbody>\n",
       "    <tr>\n",
       "      <th>109</th>\n",
       "      <td>1.46336</td>\n",
       "      <td>0.0</td>\n",
       "      <td>19.58</td>\n",
       "      <td>0</td>\n",
       "      <td>0.605</td>\n",
       "      <td>7.489</td>\n",
       "      <td>90.8</td>\n",
       "      <td>1.9709</td>\n",
       "      <td>5</td>\n",
       "      <td>403</td>\n",
       "      <td>14.7</td>\n",
       "      <td>374.43</td>\n",
       "      <td>1.73</td>\n",
       "      <td>50.0</td>\n",
       "    </tr>\n",
       "    <tr>\n",
       "      <th>110</th>\n",
       "      <td>1.51902</td>\n",
       "      <td>0.0</td>\n",
       "      <td>19.58</td>\n",
       "      <td>1</td>\n",
       "      <td>0.605</td>\n",
       "      <td>8.375</td>\n",
       "      <td>93.9</td>\n",
       "      <td>2.1620</td>\n",
       "      <td>5</td>\n",
       "      <td>403</td>\n",
       "      <td>14.7</td>\n",
       "      <td>388.45</td>\n",
       "      <td>3.32</td>\n",
       "      <td>50.0</td>\n",
       "    </tr>\n",
       "    <tr>\n",
       "      <th>113</th>\n",
       "      <td>2.01019</td>\n",
       "      <td>0.0</td>\n",
       "      <td>19.58</td>\n",
       "      <td>0</td>\n",
       "      <td>0.605</td>\n",
       "      <td>7.929</td>\n",
       "      <td>96.2</td>\n",
       "      <td>2.0459</td>\n",
       "      <td>5</td>\n",
       "      <td>403</td>\n",
       "      <td>14.7</td>\n",
       "      <td>369.30</td>\n",
       "      <td>3.70</td>\n",
       "      <td>50.0</td>\n",
       "    </tr>\n",
       "    <tr>\n",
       "      <th>243</th>\n",
       "      <td>4.89822</td>\n",
       "      <td>0.0</td>\n",
       "      <td>18.10</td>\n",
       "      <td>0</td>\n",
       "      <td>0.631</td>\n",
       "      <td>4.970</td>\n",
       "      <td>100.0</td>\n",
       "      <td>1.3325</td>\n",
       "      <td>24</td>\n",
       "      <td>666</td>\n",
       "      <td>20.2</td>\n",
       "      <td>375.52</td>\n",
       "      <td>3.26</td>\n",
       "      <td>50.0</td>\n",
       "    </tr>\n",
       "    <tr>\n",
       "      <th>244</th>\n",
       "      <td>6.53876</td>\n",
       "      <td>0.0</td>\n",
       "      <td>18.10</td>\n",
       "      <td>1</td>\n",
       "      <td>0.631</td>\n",
       "      <td>7.016</td>\n",
       "      <td>97.5</td>\n",
       "      <td>1.2024</td>\n",
       "      <td>24</td>\n",
       "      <td>666</td>\n",
       "      <td>20.2</td>\n",
       "      <td>392.05</td>\n",
       "      <td>2.96</td>\n",
       "      <td>50.0</td>\n",
       "    </tr>\n",
       "    <tr>\n",
       "      <th>245</th>\n",
       "      <td>9.23230</td>\n",
       "      <td>0.0</td>\n",
       "      <td>18.10</td>\n",
       "      <td>0</td>\n",
       "      <td>0.631</td>\n",
       "      <td>6.216</td>\n",
       "      <td>100.0</td>\n",
       "      <td>1.1691</td>\n",
       "      <td>24</td>\n",
       "      <td>666</td>\n",
       "      <td>20.2</td>\n",
       "      <td>366.15</td>\n",
       "      <td>9.53</td>\n",
       "      <td>50.0</td>\n",
       "    </tr>\n",
       "    <tr>\n",
       "      <th>246</th>\n",
       "      <td>8.26725</td>\n",
       "      <td>0.0</td>\n",
       "      <td>18.10</td>\n",
       "      <td>1</td>\n",
       "      <td>0.668</td>\n",
       "      <td>5.875</td>\n",
       "      <td>89.6</td>\n",
       "      <td>1.1296</td>\n",
       "      <td>24</td>\n",
       "      <td>666</td>\n",
       "      <td>20.2</td>\n",
       "      <td>347.88</td>\n",
       "      <td>8.88</td>\n",
       "      <td>50.0</td>\n",
       "    </tr>\n",
       "  </tbody>\n",
       "</table>\n",
       "</div>"
      ],
      "text/plain": [
       "        crim   zn  indus  chas    nox     rm    age     dis  rad  tax  \\\n",
       "109  1.46336  0.0  19.58     0  0.605  7.489   90.8  1.9709    5  403   \n",
       "110  1.51902  0.0  19.58     1  0.605  8.375   93.9  2.1620    5  403   \n",
       "113  2.01019  0.0  19.58     0  0.605  7.929   96.2  2.0459    5  403   \n",
       "243  4.89822  0.0  18.10     0  0.631  4.970  100.0  1.3325   24  666   \n",
       "244  6.53876  0.0  18.10     1  0.631  7.016   97.5  1.2024   24  666   \n",
       "245  9.23230  0.0  18.10     0  0.631  6.216  100.0  1.1691   24  666   \n",
       "246  8.26725  0.0  18.10     1  0.668  5.875   89.6  1.1296   24  666   \n",
       "\n",
       "     ptratio   black  lstat  medv  \n",
       "109     14.7  374.43   1.73  50.0  \n",
       "110     14.7  388.45   3.32  50.0  \n",
       "113     14.7  369.30   3.70  50.0  \n",
       "243     20.2  375.52   3.26  50.0  \n",
       "244     20.2  392.05   2.96  50.0  \n",
       "245     20.2  366.15   9.53  50.0  \n",
       "246     20.2  347.88   8.88  50.0  "
      ]
     },
     "execution_count": 144,
     "metadata": {},
     "output_type": "execute_result"
    }
   ],
   "source": [
    "bhdhighcrim[bhdhighcrim.medv>30] #outliers"
   ]
  },
  {
   "cell_type": "code",
   "execution_count": 145,
   "metadata": {},
   "outputs": [
    {
     "data": {
      "image/png": "[encoded data removed]",
      "text/plain": [
       "<Figure size 1008x504 with 2 Axes>"
      ]
     },
     "metadata": {
      "needs_background": "light"
     },
     "output_type": "display_data"
    }
   ],
   "source": [
    "bhdcrimmedv=plt.figure(figsize=(14,7))\n",
    "ax1= bhdcrimmedv.add_subplot(121)      \n",
    "ax1.hist(bhdlowcrim.medv,bins =20)\n",
    "ax1.set_title('Low Crime rate median housing prices')\n",
    "ax2=bhdcrimmedv.add_subplot(122)\n",
    "ax2.hist(bhdhighcrim[bhdhighcrim.medv<40]['medv'],bins=20)\n",
    "ax2.set_title('High Crime rate median housing prices')\n",
    "ax2.set_xlim(0,50)\n",
    "plt.show()"
   ]
  },
  {
   "cell_type": "code",
   "execution_count": null,
   "metadata": {},
   "outputs": [],
   "source": []
  },
  {
   "cell_type": "markdown",
   "metadata": {},
   "source": [
    "Split By Charles River Adjacent"
   ]
  },
  {
   "cell_type": "code",
   "execution_count": 146,
   "metadata": {},
   "outputs": [
    {
     "name": "stdout",
     "output_type": "stream",
     "text": [
      "<class 'pandas.core.frame.DataFrame'>\n",
      "Int64Index: 313 entries, 0 to 332\n",
      "Data columns (total 13 columns):\n",
      "crim       313 non-null float64\n",
      "zn         313 non-null float64\n",
      "indus      313 non-null float64\n",
      "nox        313 non-null float64\n",
      "rm         313 non-null float64\n",
      "age        313 non-null float64\n",
      "dis        313 non-null float64\n",
      "rad        313 non-null int64\n",
      "tax        313 non-null int64\n",
      "ptratio    313 non-null float64\n",
      "black      313 non-null float64\n",
      "lstat      313 non-null float64\n",
      "medv       313 non-null float64\n",
      "dtypes: float64(11), int64(2)\n",
      "memory usage: 34.2 KB\n",
      "DataFrame info for areas NOT ON Charles River\n",
      "None\n",
      "<class 'pandas.core.frame.DataFrame'>\n",
      "Int64Index: 20 entries, 97 to 246\n",
      "Data columns (total 13 columns):\n",
      "crim       20 non-null float64\n",
      "zn         20 non-null float64\n",
      "indus      20 non-null float64\n",
      "nox        20 non-null float64\n",
      "rm         20 non-null float64\n",
      "age        20 non-null float64\n",
      "dis        20 non-null float64\n",
      "rad        20 non-null int64\n",
      "tax        20 non-null int64\n",
      "ptratio    20 non-null float64\n",
      "black      20 non-null float64\n",
      "lstat      20 non-null float64\n",
      "medv       20 non-null float64\n",
      "dtypes: float64(11), int64(2)\n",
      "memory usage: 2.2 KB\n",
      "DataFrame info for areas ON Charles River\n",
      " None\n"
     ]
    }
   ],
   "source": [
    "bhdchas0=bhd[bhd['chas']==0]\n",
    "bhdchas1=bhd[bhd['chas']==1]\n",
    "bhdchas0=bhdchas0.drop(columns='chas')\n",
    "bhdchas1=bhdchas1.drop(columns='chas')\n",
    "print(f'DataFrame info for areas NOT ON Charles River\\n{bhdchas0.info()}' )\n",
    "print(f'DataFrame info for areas ON Charles River\\n {bhdchas1.info()}')"
   ]
  },
  {
   "cell_type": "code",
   "execution_count": 147,
   "metadata": {},
   "outputs": [
    {
     "data": {
      "text/html": [
       "<div>\n",
       "<style scoped>\n",
       "    .dataframe tbody tr th:only-of-type {\n",
       "        vertical-align: middle;\n",
       "    }\n",
       "\n",
       "    .dataframe tbody tr th {\n",
       "        vertical-align: top;\n",
       "    }\n",
       "\n",
       "    .dataframe thead th {\n",
       "        text-align: right;\n",
       "    }\n",
       "</style>\n",
       "<table border=\"1\" class=\"dataframe\">\n",
       "  <thead>\n",
       "    <tr style=\"text-align: right;\">\n",
       "      <th></th>\n",
       "      <th>crim</th>\n",
       "      <th>zn</th>\n",
       "      <th>indus</th>\n",
       "      <th>nox</th>\n",
       "      <th>rm</th>\n",
       "      <th>age</th>\n",
       "      <th>dis</th>\n",
       "      <th>rad</th>\n",
       "      <th>tax</th>\n",
       "      <th>ptratio</th>\n",
       "      <th>black</th>\n",
       "      <th>lstat</th>\n",
       "      <th>medv</th>\n",
       "    </tr>\n",
       "  </thead>\n",
       "  <tbody>\n",
       "    <tr>\n",
       "      <th>97</th>\n",
       "      <td>3.32105</td>\n",
       "      <td>0.0</td>\n",
       "      <td>19.58</td>\n",
       "      <td>0.8710</td>\n",
       "      <td>5.403</td>\n",
       "      <td>100.0</td>\n",
       "      <td>1.3216</td>\n",
       "      <td>5</td>\n",
       "      <td>403</td>\n",
       "      <td>14.7</td>\n",
       "      <td>396.90</td>\n",
       "      <td>26.82</td>\n",
       "      <td>13.4</td>\n",
       "    </tr>\n",
       "    <tr>\n",
       "      <th>104</th>\n",
       "      <td>1.41385</td>\n",
       "      <td>0.0</td>\n",
       "      <td>19.58</td>\n",
       "      <td>0.8710</td>\n",
       "      <td>6.129</td>\n",
       "      <td>96.0</td>\n",
       "      <td>1.7494</td>\n",
       "      <td>5</td>\n",
       "      <td>403</td>\n",
       "      <td>14.7</td>\n",
       "      <td>321.02</td>\n",
       "      <td>15.12</td>\n",
       "      <td>17.0</td>\n",
       "    </tr>\n",
       "    <tr>\n",
       "      <th>108</th>\n",
       "      <td>1.27346</td>\n",
       "      <td>0.0</td>\n",
       "      <td>19.58</td>\n",
       "      <td>0.6050</td>\n",
       "      <td>6.250</td>\n",
       "      <td>92.6</td>\n",
       "      <td>1.7984</td>\n",
       "      <td>5</td>\n",
       "      <td>403</td>\n",
       "      <td>14.7</td>\n",
       "      <td>338.92</td>\n",
       "      <td>5.50</td>\n",
       "      <td>27.0</td>\n",
       "    </tr>\n",
       "    <tr>\n",
       "      <th>110</th>\n",
       "      <td>1.51902</td>\n",
       "      <td>0.0</td>\n",
       "      <td>19.58</td>\n",
       "      <td>0.6050</td>\n",
       "      <td>8.375</td>\n",
       "      <td>93.9</td>\n",
       "      <td>2.1620</td>\n",
       "      <td>5</td>\n",
       "      <td>403</td>\n",
       "      <td>14.7</td>\n",
       "      <td>388.45</td>\n",
       "      <td>3.32</td>\n",
       "      <td>50.0</td>\n",
       "    </tr>\n",
       "    <tr>\n",
       "      <th>145</th>\n",
       "      <td>0.13587</td>\n",
       "      <td>0.0</td>\n",
       "      <td>10.59</td>\n",
       "      <td>0.4890</td>\n",
       "      <td>6.064</td>\n",
       "      <td>59.1</td>\n",
       "      <td>4.2392</td>\n",
       "      <td>4</td>\n",
       "      <td>277</td>\n",
       "      <td>18.6</td>\n",
       "      <td>381.32</td>\n",
       "      <td>14.66</td>\n",
       "      <td>24.4</td>\n",
       "    </tr>\n",
       "    <tr>\n",
       "      <th>146</th>\n",
       "      <td>0.37578</td>\n",
       "      <td>0.0</td>\n",
       "      <td>10.59</td>\n",
       "      <td>0.4890</td>\n",
       "      <td>5.404</td>\n",
       "      <td>88.6</td>\n",
       "      <td>3.6650</td>\n",
       "      <td>4</td>\n",
       "      <td>277</td>\n",
       "      <td>18.6</td>\n",
       "      <td>395.24</td>\n",
       "      <td>23.98</td>\n",
       "      <td>19.3</td>\n",
       "    </tr>\n",
       "    <tr>\n",
       "      <th>149</th>\n",
       "      <td>0.04560</td>\n",
       "      <td>0.0</td>\n",
       "      <td>13.89</td>\n",
       "      <td>0.5500</td>\n",
       "      <td>5.888</td>\n",
       "      <td>56.0</td>\n",
       "      <td>3.1121</td>\n",
       "      <td>5</td>\n",
       "      <td>276</td>\n",
       "      <td>16.4</td>\n",
       "      <td>392.80</td>\n",
       "      <td>13.51</td>\n",
       "      <td>23.3</td>\n",
       "    </tr>\n",
       "    <tr>\n",
       "      <th>150</th>\n",
       "      <td>0.40771</td>\n",
       "      <td>0.0</td>\n",
       "      <td>6.20</td>\n",
       "      <td>0.5070</td>\n",
       "      <td>6.164</td>\n",
       "      <td>91.3</td>\n",
       "      <td>3.0480</td>\n",
       "      <td>8</td>\n",
       "      <td>307</td>\n",
       "      <td>17.4</td>\n",
       "      <td>395.24</td>\n",
       "      <td>21.46</td>\n",
       "      <td>21.7</td>\n",
       "    </tr>\n",
       "    <tr>\n",
       "      <th>151</th>\n",
       "      <td>0.62356</td>\n",
       "      <td>0.0</td>\n",
       "      <td>6.20</td>\n",
       "      <td>0.5070</td>\n",
       "      <td>6.879</td>\n",
       "      <td>77.7</td>\n",
       "      <td>3.2721</td>\n",
       "      <td>8</td>\n",
       "      <td>307</td>\n",
       "      <td>17.4</td>\n",
       "      <td>390.39</td>\n",
       "      <td>9.93</td>\n",
       "      <td>27.5</td>\n",
       "    </tr>\n",
       "    <tr>\n",
       "      <th>161</th>\n",
       "      <td>0.44791</td>\n",
       "      <td>0.0</td>\n",
       "      <td>6.20</td>\n",
       "      <td>0.5070</td>\n",
       "      <td>6.726</td>\n",
       "      <td>66.5</td>\n",
       "      <td>3.6519</td>\n",
       "      <td>8</td>\n",
       "      <td>307</td>\n",
       "      <td>17.4</td>\n",
       "      <td>360.20</td>\n",
       "      <td>8.05</td>\n",
       "      <td>29.0</td>\n",
       "    </tr>\n",
       "    <tr>\n",
       "      <th>163</th>\n",
       "      <td>0.52058</td>\n",
       "      <td>0.0</td>\n",
       "      <td>6.20</td>\n",
       "      <td>0.5070</td>\n",
       "      <td>6.631</td>\n",
       "      <td>76.5</td>\n",
       "      <td>4.1480</td>\n",
       "      <td>8</td>\n",
       "      <td>307</td>\n",
       "      <td>17.4</td>\n",
       "      <td>388.45</td>\n",
       "      <td>9.54</td>\n",
       "      <td>25.1</td>\n",
       "    </tr>\n",
       "    <tr>\n",
       "      <th>184</th>\n",
       "      <td>0.22188</td>\n",
       "      <td>20.0</td>\n",
       "      <td>6.96</td>\n",
       "      <td>0.4640</td>\n",
       "      <td>7.691</td>\n",
       "      <td>51.8</td>\n",
       "      <td>4.3665</td>\n",
       "      <td>3</td>\n",
       "      <td>223</td>\n",
       "      <td>18.6</td>\n",
       "      <td>390.77</td>\n",
       "      <td>6.58</td>\n",
       "      <td>35.2</td>\n",
       "    </tr>\n",
       "    <tr>\n",
       "      <th>185</th>\n",
       "      <td>0.05644</td>\n",
       "      <td>40.0</td>\n",
       "      <td>6.41</td>\n",
       "      <td>0.4470</td>\n",
       "      <td>6.758</td>\n",
       "      <td>32.9</td>\n",
       "      <td>4.0776</td>\n",
       "      <td>4</td>\n",
       "      <td>254</td>\n",
       "      <td>17.6</td>\n",
       "      <td>396.90</td>\n",
       "      <td>3.53</td>\n",
       "      <td>32.4</td>\n",
       "    </tr>\n",
       "    <tr>\n",
       "      <th>188</th>\n",
       "      <td>0.06129</td>\n",
       "      <td>20.0</td>\n",
       "      <td>3.33</td>\n",
       "      <td>0.4429</td>\n",
       "      <td>7.645</td>\n",
       "      <td>49.7</td>\n",
       "      <td>5.2119</td>\n",
       "      <td>5</td>\n",
       "      <td>216</td>\n",
       "      <td>14.9</td>\n",
       "      <td>377.07</td>\n",
       "      <td>3.01</td>\n",
       "      <td>46.0</td>\n",
       "    </tr>\n",
       "    <tr>\n",
       "      <th>189</th>\n",
       "      <td>0.01501</td>\n",
       "      <td>90.0</td>\n",
       "      <td>1.21</td>\n",
       "      <td>0.4010</td>\n",
       "      <td>7.923</td>\n",
       "      <td>24.8</td>\n",
       "      <td>5.8850</td>\n",
       "      <td>1</td>\n",
       "      <td>198</td>\n",
       "      <td>13.6</td>\n",
       "      <td>395.52</td>\n",
       "      <td>3.16</td>\n",
       "      <td>50.0</td>\n",
       "    </tr>\n",
       "    <tr>\n",
       "      <th>234</th>\n",
       "      <td>8.98296</td>\n",
       "      <td>0.0</td>\n",
       "      <td>18.10</td>\n",
       "      <td>0.7700</td>\n",
       "      <td>6.212</td>\n",
       "      <td>97.4</td>\n",
       "      <td>2.1222</td>\n",
       "      <td>24</td>\n",
       "      <td>666</td>\n",
       "      <td>20.2</td>\n",
       "      <td>377.73</td>\n",
       "      <td>17.60</td>\n",
       "      <td>17.8</td>\n",
       "    </tr>\n",
       "    <tr>\n",
       "      <th>235</th>\n",
       "      <td>3.84970</td>\n",
       "      <td>0.0</td>\n",
       "      <td>18.10</td>\n",
       "      <td>0.7700</td>\n",
       "      <td>6.395</td>\n",
       "      <td>91.0</td>\n",
       "      <td>2.5052</td>\n",
       "      <td>24</td>\n",
       "      <td>666</td>\n",
       "      <td>20.2</td>\n",
       "      <td>391.34</td>\n",
       "      <td>13.27</td>\n",
       "      <td>21.7</td>\n",
       "    </tr>\n",
       "    <tr>\n",
       "      <th>236</th>\n",
       "      <td>5.20177</td>\n",
       "      <td>0.0</td>\n",
       "      <td>18.10</td>\n",
       "      <td>0.7700</td>\n",
       "      <td>6.127</td>\n",
       "      <td>83.4</td>\n",
       "      <td>2.7227</td>\n",
       "      <td>24</td>\n",
       "      <td>666</td>\n",
       "      <td>20.2</td>\n",
       "      <td>395.43</td>\n",
       "      <td>11.48</td>\n",
       "      <td>22.7</td>\n",
       "    </tr>\n",
       "    <tr>\n",
       "      <th>244</th>\n",
       "      <td>6.53876</td>\n",
       "      <td>0.0</td>\n",
       "      <td>18.10</td>\n",
       "      <td>0.6310</td>\n",
       "      <td>7.016</td>\n",
       "      <td>97.5</td>\n",
       "      <td>1.2024</td>\n",
       "      <td>24</td>\n",
       "      <td>666</td>\n",
       "      <td>20.2</td>\n",
       "      <td>392.05</td>\n",
       "      <td>2.96</td>\n",
       "      <td>50.0</td>\n",
       "    </tr>\n",
       "    <tr>\n",
       "      <th>246</th>\n",
       "      <td>8.26725</td>\n",
       "      <td>0.0</td>\n",
       "      <td>18.10</td>\n",
       "      <td>0.6680</td>\n",
       "      <td>5.875</td>\n",
       "      <td>89.6</td>\n",
       "      <td>1.1296</td>\n",
       "      <td>24</td>\n",
       "      <td>666</td>\n",
       "      <td>20.2</td>\n",
       "      <td>347.88</td>\n",
       "      <td>8.88</td>\n",
       "      <td>50.0</td>\n",
       "    </tr>\n",
       "  </tbody>\n",
       "</table>\n",
       "</div>"
      ],
      "text/plain": [
       "        crim    zn  indus     nox     rm    age     dis  rad  tax  ptratio  \\\n",
       "97   3.32105   0.0  19.58  0.8710  5.403  100.0  1.3216    5  403     14.7   \n",
       "104  1.41385   0.0  19.58  0.8710  6.129   96.0  1.7494    5  403     14.7   \n",
       "108  1.27346   0.0  19.58  0.6050  6.250   92.6  1.7984    5  403     14.7   \n",
       "110  1.51902   0.0  19.58  0.6050  8.375   93.9  2.1620    5  403     14.7   \n",
       "145  0.13587   0.0  10.59  0.4890  6.064   59.1  4.2392    4  277     18.6   \n",
       "146  0.37578   0.0  10.59  0.4890  5.404   88.6  3.6650    4  277     18.6   \n",
       "149  0.04560   0.0  13.89  0.5500  5.888   56.0  3.1121    5  276     16.4   \n",
       "150  0.40771   0.0   6.20  0.5070  6.164   91.3  3.0480    8  307     17.4   \n",
       "151  0.62356   0.0   6.20  0.5070  6.879   77.7  3.2721    8  307     17.4   \n",
       "161  0.44791   0.0   6.20  0.5070  6.726   66.5  3.6519    8  307     17.4   \n",
       "163  0.52058   0.0   6.20  0.5070  6.631   76.5  4.1480    8  307     17.4   \n",
       "184  0.22188  20.0   6.96  0.4640  7.691   51.8  4.3665    3  223     18.6   \n",
       "185  0.05644  40.0   6.41  0.4470  6.758   32.9  4.0776    4  254     17.6   \n",
       "188  0.06129  20.0   3.33  0.4429  7.645   49.7  5.2119    5  216     14.9   \n",
       "189  0.01501  90.0   1.21  0.4010  7.923   24.8  5.8850    1  198     13.6   \n",
       "234  8.98296   0.0  18.10  0.7700  6.212   97.4  2.1222   24  666     20.2   \n",
       "235  3.84970   0.0  18.10  0.7700  6.395   91.0  2.5052   24  666     20.2   \n",
       "236  5.20177   0.0  18.10  0.7700  6.127   83.4  2.7227   24  666     20.2   \n",
       "244  6.53876   0.0  18.10  0.6310  7.016   97.5  1.2024   24  666     20.2   \n",
       "246  8.26725   0.0  18.10  0.6680  5.875   89.6  1.1296   24  666     20.2   \n",
       "\n",
       "      black  lstat  medv  \n",
       "97   396.90  26.82  13.4  \n",
       "104  321.02  15.12  17.0  \n",
       "108  338.92   5.50  27.0  \n",
       "110  388.45   3.32  50.0  \n",
       "145  381.32  14.66  24.4  \n",
       "146  395.24  23.98  19.3  \n",
       "149  392.80  13.51  23.3  \n",
       "150  395.24  21.46  21.7  \n",
       "151  390.39   9.93  27.5  \n",
       "161  360.20   8.05  29.0  \n",
       "163  388.45   9.54  25.1  \n",
       "184  390.77   6.58  35.2  \n",
       "185  396.90   3.53  32.4  \n",
       "188  377.07   3.01  46.0  \n",
       "189  395.52   3.16  50.0  \n",
       "234  377.73  17.60  17.8  \n",
       "235  391.34  13.27  21.7  \n",
       "236  395.43  11.48  22.7  \n",
       "244  392.05   2.96  50.0  \n",
       "246  347.88   8.88  50.0  "
      ]
     },
     "execution_count": 147,
     "metadata": {},
     "output_type": "execute_result"
    }
   ],
   "source": [
    "bhdchas1"
   ]
  },
  {
   "cell_type": "markdown",
   "metadata": {},
   "source": [
    "very small sample size comparatively - just 20 "
   ]
  },
  {
   "cell_type": "code",
   "execution_count": 148,
   "metadata": {},
   "outputs": [
    {
     "name": "stdout",
     "output_type": "stream",
     "text": [
      "DataFrame description for areas NOT ON Charles River\n",
      "             crim          zn       indus         nox          rm         age  \\\n",
      "count  313.000000  313.000000  313.000000  313.000000  313.000000  313.000000   \n",
      "mean     3.436787   10.829073   11.227252    0.554815    6.245674   67.741534   \n",
      "std      7.544289   22.754198    7.032974    0.112555    0.693026   28.400933   \n",
      "min      0.006320    0.000000    0.740000    0.385000    3.561000    6.000000   \n",
      "25%      0.078750    0.000000    4.950000    0.453000    5.879000   43.700000   \n",
      "50%      0.245220    0.000000    9.690000    0.538000    6.185000   76.500000   \n",
      "75%      3.678220   12.500000   18.100000    0.624000    6.563000   93.800000   \n",
      "max     73.534100  100.000000   27.740000    0.871000    8.725000  100.000000   \n",
      "\n",
      "              dis         rad         tax     ptratio       black       lstat  \\\n",
      "count  313.000000  313.000000  313.000000  313.000000  313.000000  313.000000   \n",
      "mean     3.750853    9.616613  410.220447   18.515974  358.110511   12.604728   \n",
      "std      2.009606    8.768386  171.014186    2.132487   88.984202    7.061663   \n",
      "min      1.137000    1.000000  188.000000   12.600000    3.500000    1.730000   \n",
      "25%      2.132900    4.000000  281.000000   17.400000  376.700000    7.220000   \n",
      "50%      3.092300    5.000000  330.000000   19.100000  392.230000   11.220000   \n",
      "75%      5.214600   24.000000  666.000000   20.200000  396.330000   16.440000   \n",
      "max     10.710300   24.000000  711.000000   21.200000  396.900000   37.970000   \n",
      "\n",
      "             medv  \n",
      "count  313.000000  \n",
      "mean    22.295527  \n",
      "std      8.746397  \n",
      "min      5.000000  \n",
      "25%     17.200000  \n",
      "50%     21.200000  \n",
      "75%     24.700000  \n",
      "max     50.000000  \n",
      "DataFrame description for areas ON Charles River\n",
      "             crim         zn      indus        nox         rm         age  \\\n",
      "count  20.000000  20.000000  20.000000  20.000000  20.000000   20.000000   \n",
      "mean    2.163972   8.500000  12.330000   0.593595   6.577750   75.815000   \n",
      "std     2.885734  21.830688   6.505255   0.146237   0.814341   22.808638   \n",
      "min     0.015010   0.000000   1.210000   0.401000   5.403000   24.800000   \n",
      "25%     0.200377   0.000000   6.200000   0.489000   6.111250   58.325000   \n",
      "50%     0.572070   0.000000  12.240000   0.528500   6.322500   86.000000   \n",
      "75%     3.453213   0.000000  18.100000   0.693500   6.913250   92.925000   \n",
      "max     8.982960  90.000000  19.580000   0.871000   8.375000  100.000000   \n",
      "\n",
      "             dis        rad         tax   ptratio       black      lstat  \\\n",
      "count  20.000000  20.000000   20.000000  20.00000   20.000000  20.000000   \n",
      "mean    3.069540   9.900000  394.550000  17.38500  380.681000  11.118000   \n",
      "std     1.343724   8.534142  171.795005   2.22906   21.661541   7.198281   \n",
      "min     1.129600   1.000000  198.000000  13.60000  321.020000   2.960000   \n",
      "25%     2.041250   4.750000  276.750000  14.85000  377.565000   5.007500   \n",
      "50%     3.080050   5.000000  307.000000  17.40000  390.580000   9.735000   \n",
      "75%     4.095200  12.000000  468.750000  19.00000  395.240000  14.775000   \n",
      "max     5.885000  24.000000  666.000000  20.20000  396.900000  26.820000   \n",
      "\n",
      "            medv  \n",
      "count  20.000000  \n",
      "mean   30.175000  \n",
      "std    12.362204  \n",
      "min    13.400000  \n",
      "25%    21.700000  \n",
      "50%    26.050000  \n",
      "75%    37.900000  \n",
      "max    50.000000  \n"
     ]
    }
   ],
   "source": [
    "\n",
    "print(f'DataFrame description for areas NOT ON Charles River\\n{bhdchas0.describe()}' )\n",
    "print(f'DataFrame description for areas ON Charles River\\n {bhdchas1.describe()}')"
   ]
  },
  {
   "cell_type": "code",
   "execution_count": 149,
   "metadata": {},
   "outputs": [
    {
     "data": {
      "image/png": "[encoded data removed]",
      "text/plain": [
       "<Figure size 432x288 with 16 Axes>"
      ]
     },
     "metadata": {
      "needs_background": "light"
     },
     "output_type": "display_data"
    }
   ],
   "source": [
    "bhdchas0.hist()\n",
    "\n",
    "plt.show()"
   ]
  },
  {
   "cell_type": "code",
   "execution_count": 150,
   "metadata": {},
   "outputs": [
    {
     "data": {
      "image/png": "[encoded data removed]",
      "text/plain": [
       "<Figure size 432x288 with 16 Axes>"
      ]
     },
     "metadata": {
      "needs_background": "light"
     },
     "output_type": "display_data"
    }
   ],
   "source": [
    "bhdchas1.hist()\n",
    "\n",
    "plt.show()"
   ]
  },
  {
   "cell_type": "code",
   "execution_count": 151,
   "metadata": {},
   "outputs": [
    {
     "name": "stdout",
     "output_type": "stream",
     "text": [
      "differences in variable means(No-yes)\n",
      " crim        1.272814\n",
      "zn          2.329073\n",
      "indus      -1.102748\n",
      "nox        -0.038780\n",
      "rm         -0.332076\n",
      "age        -8.073466\n",
      "dis         0.681313\n",
      "rad        -0.283387\n",
      "tax        15.670447\n",
      "ptratio     1.130974\n",
      "black     -22.570489\n",
      "lstat       1.486728\n",
      "medv       -7.879473\n",
      "dtype: float64\n",
      "difference in means over variable range(no-yes)\n",
      " age       -0.085888\n",
      "black     -0.057373\n",
      "chas            NaN\n",
      "crim       0.017311\n",
      "dis        0.071113\n",
      "indus     -0.040843\n",
      "lstat      0.041025\n",
      "medv      -0.175099\n",
      "nox       -0.079794\n",
      "ptratio    0.131509\n",
      "rad       -0.012321\n",
      "rm        -0.064306\n",
      "tax        0.029963\n",
      "zn         0.023291\n",
      "dtype: float64\n",
      "\n",
      "differences in variable medians(no-yes)\n",
      " crim       -0.32685\n",
      "zn          0.00000\n",
      "indus      -2.55000\n",
      "nox         0.00950\n",
      "rm         -0.13750\n",
      "age        -9.50000\n",
      "dis         0.01225\n",
      "rad         0.00000\n",
      "tax        23.00000\n",
      "ptratio     1.70000\n",
      "black       1.65000\n",
      "lstat       1.48500\n",
      "medv       -4.85000\n",
      "dtype: float64\n",
      "difference in medians  over variable range(no-yes)\n",
      " age       -0.101064\n",
      "black      0.004194\n",
      "chas            NaN\n",
      "crim      -0.004445\n",
      "dis        0.001279\n",
      "indus     -0.094444\n",
      "lstat      0.040977\n",
      "medv      -0.107778\n",
      "nox        0.019547\n",
      "ptratio    0.197674\n",
      "rad        0.000000\n",
      "rm        -0.026627\n",
      "tax        0.043977\n",
      "zn         0.000000\n",
      "dtype: float64\n",
      "\n",
      "complete dataframe variable ranges\n",
      " crim        73.52778\n",
      "zn         100.00000\n",
      "indus       27.00000\n",
      "chas         1.00000\n",
      "nox          0.48600\n",
      "rm           5.16400\n",
      "age         94.00000\n",
      "dis          9.58070\n",
      "rad         23.00000\n",
      "tax        523.00000\n",
      "ptratio      8.60000\n",
      "black      393.40000\n",
      "lstat       36.24000\n",
      "medv        45.00000\n",
      "dtype: float64\n"
     ]
    }
   ],
   "source": [
    "print('differences in variable means(No-yes)\\n', bhdchas0.mean()-bhdchas1.mean())\n",
    "print('difference in means over variable range(no-yes)\\n',(bhdchas0.mean()-bhdchas1.mean())/(bhd.max()-bhd.min()))\n",
    "print('\\ndifferences in variable medians(no-yes)\\n', bhdchas0.median()-bhdchas1.median())\n",
    "print('difference in medians  over variable range(no-yes)\\n',(bhdchas0.median()-bhdchas1.median())/(bhd.max()-bhd.min()))\n",
    "print('\\ncomplete dataframe variable ranges\\n',bhd.max()-bhd.min())"
   ]
  },
  {
   "cell_type": "code",
   "execution_count": null,
   "metadata": {},
   "outputs": [],
   "source": []
  },
  {
   "cell_type": "markdown",
   "metadata": {},
   "source": [
    "Split by Radial Highway Accessability"
   ]
  },
  {
   "cell_type": "code",
   "execution_count": 152,
   "metadata": {},
   "outputs": [
    {
     "data": {
      "text/plain": [
       "<matplotlib.axes._subplots.AxesSubplot at 0x17125618668>"
      ]
     },
     "execution_count": 152,
     "metadata": {},
     "output_type": "execute_result"
    },
    {
     "data": {
      "image/png": "[encoded data removed]",
      "text/plain": [
       "<Figure size 432x288 with 1 Axes>"
      ]
     },
     "metadata": {
      "needs_background": "light"
     },
     "output_type": "display_data"
    }
   ],
   "source": [
    "bhd.rad.hist() "
   ]
  },
  {
   "cell_type": "code",
   "execution_count": null,
   "metadata": {},
   "outputs": [],
   "source": []
  },
  {
   "cell_type": "code",
   "execution_count": 153,
   "metadata": {},
   "outputs": [
    {
     "data": {
      "text/plain": [
       "24    88\n",
       "5     76\n",
       "4     70\n",
       "3     27\n",
       "8     18\n",
       "2     14\n",
       "1     14\n",
       "7     13\n",
       "6     13\n",
       "Name: rad, dtype: int64"
      ]
     },
     "execution_count": 153,
     "metadata": {},
     "output_type": "execute_result"
    }
   ],
   "source": [
    "bhd['rad'].value_counts()"
   ]
  },
  {
   "cell_type": "code",
   "execution_count": 154,
   "metadata": {},
   "outputs": [],
   "source": [
    "bhdhighrad=bhd[bhd['rad']<15]\n",
    "bhdlowrad=bhd[bhd['rad']>15]"
   ]
  },
  {
   "cell_type": "code",
   "execution_count": 155,
   "metadata": {},
   "outputs": [
    {
     "name": "stdout",
     "output_type": "stream",
     "text": [
      "DataFrame description for areas with LOW radial accessability index\n",
      "            crim    zn         indus       chas        nox         rm  \\\n",
      "count  88.000000  88.0  8.800000e+01  88.000000  88.000000  88.000000   \n",
      "mean   11.616404   0.0  1.810000e+01   0.056818   0.673875   5.922068   \n",
      "std    10.559032   0.0  3.573073e-15   0.232822   0.062266   0.687750   \n",
      "min     2.378570   0.0  1.810000e+01   0.000000   0.532000   3.561000   \n",
      "25%     5.404117   0.0  1.810000e+01   0.000000   0.631000   5.597250   \n",
      "50%     8.529685   0.0  1.810000e+01   0.000000   0.693000   6.113000   \n",
      "75%    13.620000   0.0  1.810000e+01   0.000000   0.713000   6.383750   \n",
      "max    73.534100   0.0  1.810000e+01   1.000000   0.770000   7.393000   \n",
      "\n",
      "              age        dis   rad    tax       ptratio       black  \\\n",
      "count   88.000000  88.000000  88.0   88.0  8.800000e+01   88.000000   \n",
      "mean    89.013636   2.134557  24.0  666.0  2.020000e+01  300.627386   \n",
      "std     13.428766   0.634788   0.0    0.0  3.573073e-15  139.083412   \n",
      "min     40.300000   1.129600  24.0  666.0  2.020000e+01    3.500000   \n",
      "25%     84.225000   1.655525  24.0  666.0  2.020000e+01  251.552500   \n",
      "50%     94.100000   2.034150  24.0  666.0  2.020000e+01  379.040000   \n",
      "75%     98.725000   2.523725  24.0  666.0  2.020000e+01  396.382500   \n",
      "max    100.000000   4.098300  24.0  666.0  2.020000e+01  396.900000   \n",
      "\n",
      "           lstat       medv  \n",
      "count  88.000000  88.000000  \n",
      "mean   18.358523  17.056818  \n",
      "std     6.928403   8.937443  \n",
      "min     2.960000   5.000000  \n",
      "25%    13.827500  11.650000  \n",
      "50%    17.665000  15.300000  \n",
      "75%    22.775000  20.300000  \n",
      "max    37.970000  50.000000  \n",
      "DataFrame description for areas with HIGH radial accessability index\n",
      "              crim          zn       indus        chas         nox          rm  \\\n",
      "count  245.000000  245.000000  245.000000  245.000000  245.000000  245.000000   \n",
      "mean     0.394899   14.528571    8.848694    0.061224    0.515216    6.389016   \n",
      "std      0.620201   25.368578    6.627684    0.240232    0.099592    0.669150   \n",
      "min      0.006320    0.000000    0.740000    0.000000    0.385000    4.926000   \n",
      "25%      0.056600    0.000000    4.050000    0.000000    0.439000    5.963000   \n",
      "50%      0.136420    0.000000    6.410000    0.000000    0.504000    6.249000   \n",
      "75%      0.382140   21.000000   10.590000    0.000000    0.547000    6.726000   \n",
      "max      3.321050  100.000000   27.740000    1.000000    0.871000    8.725000   \n",
      "\n",
      "              age         dis         rad         tax     ptratio       black  \\\n",
      "count  245.000000  245.000000  245.000000  245.000000  245.000000  245.000000   \n",
      "mean    60.760000    4.275783    4.473469  317.069388   17.818776  380.600000   \n",
      "std     28.298794    1.995022    1.678062   86.062306    2.189911   40.078756   \n",
      "min      6.000000    1.321600    1.000000  188.000000   12.600000   70.800000   \n",
      "25%     36.600000    2.596100    4.000000  264.000000   16.100000  383.610000   \n",
      "50%     62.800000    3.945400    4.000000  304.000000   17.900000  392.800000   \n",
      "75%     87.400000    5.560500    5.000000  384.000000   19.200000  396.240000   \n",
      "max    100.000000   10.710300    8.000000  711.000000   21.200000  396.900000   \n",
      "\n",
      "            lstat        medv  \n",
      "count  245.000000  245.000000  \n",
      "mean    10.416694   24.820408  \n",
      "std      5.841032    8.368285  \n",
      "min      1.730000    8.100000  \n",
      "25%      6.120000   19.400000  \n",
      "50%      9.420000   22.900000  \n",
      "75%     13.350000   28.100000  \n",
      "max     34.410000   50.000000  \n"
     ]
    }
   ],
   "source": [
    "\n",
    "print(f'DataFrame description for areas with LOW radial accessability index\\n{bhdlowrad.describe()}' )\n",
    "print(f'DataFrame description for areas with HIGH radial accessability index\\n {bhdhighrad.describe()}')"
   ]
  },
  {
   "cell_type": "markdown",
   "metadata": {},
   "source": [
    "low radial accessability group has some distinct features. tax variable = 666, ptr = 20.2 indus = 18.1 zn = 0\n",
    "poor schools, lots of industry, no zoning for suburban sprawl ~1/2 acre blocks\n",
    "also notable low accessability group has higher crime rate mean and median and range and higher % of low status pop. mean and median and lower housing median value mean and median"
   ]
  },
  {
   "cell_type": "code",
   "execution_count": 156,
   "metadata": {},
   "outputs": [
    {
     "data": {
      "image/png": "[encoded data removed]",
      "text/plain": [
       "<Figure size 432x288 with 16 Axes>"
      ]
     },
     "metadata": {
      "needs_background": "light"
     },
     "output_type": "display_data"
    }
   ],
   "source": [
    "bhdlowrad.hist()\n",
    "plt.show()"
   ]
  },
  {
   "cell_type": "code",
   "execution_count": 157,
   "metadata": {},
   "outputs": [
    {
     "data": {
      "image/png": "[encoded data removed]",
      "text/plain": [
       "<Figure size 432x288 with 16 Axes>"
      ]
     },
     "metadata": {
      "needs_background": "light"
     },
     "output_type": "display_data"
    }
   ],
   "source": [
    "bhdhighrad.hist()\n",
    "plt.show()"
   ]
  },
  {
   "cell_type": "code",
   "execution_count": 158,
   "metadata": {},
   "outputs": [
    {
     "name": "stdout",
     "output_type": "stream",
     "text": [
      "differences in variable means(high-low)\n",
      " crim       -11.221505\n",
      "zn          14.528571\n",
      "indus       -9.251306\n",
      "chas         0.004406\n",
      "nox         -0.158659\n",
      "rm           0.466948\n",
      "age        -28.253636\n",
      "dis          2.141226\n",
      "rad        -19.526531\n",
      "tax       -348.930612\n",
      "ptratio     -2.381224\n",
      "black       79.972614\n",
      "lstat       -7.941829\n",
      "medv         7.763590\n",
      "dtype: float64\n",
      "difference in means over variable range(high-low)\n",
      " crim      -0.152616\n",
      "zn         0.145286\n",
      "indus     -0.342641\n",
      "chas       0.004406\n",
      "nox       -0.326458\n",
      "rm         0.090424\n",
      "age       -0.300571\n",
      "dis        0.223494\n",
      "rad       -0.848980\n",
      "tax       -0.667171\n",
      "ptratio   -0.276887\n",
      "black      0.203286\n",
      "lstat     -0.219145\n",
      "medv       0.172524\n",
      "dtype: float64\n",
      "\n",
      "differences in variable medians(high-low)\n",
      " crim        -8.393265\n",
      "zn           0.000000\n",
      "indus      -11.690000\n",
      "chas         0.000000\n",
      "nox         -0.189000\n",
      "rm           0.136000\n",
      "age        -31.300000\n",
      "dis          1.911250\n",
      "rad        -20.000000\n",
      "tax       -362.000000\n",
      "ptratio     -2.300000\n",
      "black       13.760000\n",
      "lstat       -8.245000\n",
      "medv         7.600000\n",
      "dtype: float64\n",
      "difference in medians  over variable range(high-low)\n",
      " crim      -0.114151\n",
      "zn         0.000000\n",
      "indus     -0.432963\n",
      "chas       0.000000\n",
      "nox       -0.388889\n",
      "rm         0.026336\n",
      "age       -0.332979\n",
      "dis        0.199490\n",
      "rad       -0.869565\n",
      "tax       -0.692161\n",
      "ptratio   -0.267442\n",
      "black      0.034977\n",
      "lstat     -0.227511\n",
      "medv       0.168889\n",
      "dtype: float64\n",
      "\n",
      "complete dataframe variable ranges\n",
      " crim        73.52778\n",
      "zn         100.00000\n",
      "indus       27.00000\n",
      "chas         1.00000\n",
      "nox          0.48600\n",
      "rm           5.16400\n",
      "age         94.00000\n",
      "dis          9.58070\n",
      "rad         23.00000\n",
      "tax        523.00000\n",
      "ptratio      8.60000\n",
      "black      393.40000\n",
      "lstat       36.24000\n",
      "medv        45.00000\n",
      "dtype: float64\n"
     ]
    }
   ],
   "source": [
    "print('differences in variable means(high-low)\\n', bhdhighrad.mean()-bhdlowrad.mean())\n",
    "print('difference in means over variable range(high-low)\\n',(bhdhighrad.mean()-bhdlowrad.mean())/(bhd.max()-bhd.min()))\n",
    "print('\\ndifferences in variable medians(high-low)\\n', bhdhighrad.median()-bhdlowrad.median())\n",
    "print('difference in medians  over variable range(high-low)\\n',(bhdhighrad.median()-bhdlowrad.median())/(bhd.max()-bhd.min()))\n",
    "print('\\ncomplete dataframe variable ranges\\n',bhd.max()-bhd.min())"
   ]
  },
  {
   "cell_type": "code",
   "execution_count": 159,
   "metadata": {},
   "outputs": [
    {
     "data": {
      "image/png": "[encoded data removed]",
      "text/plain": [
       "<Figure size 1008x504 with 2 Axes>"
      ]
     },
     "metadata": {
      "needs_background": "light"
     },
     "output_type": "display_data"
    }
   ],
   "source": [
    "bhdradcrim=plt.figure(figsize=(14,7))\n",
    "ax1= bhdradcrim.add_subplot(121)      \n",
    "ax1.hist(bhdlowrad.crim,bins =20)\n",
    "ax1.set_title('Low Radial Accessability Crime Rate')\n",
    "ax2=bhdradcrim.add_subplot(122)\n",
    "ax2.hist(bhdhighrad.crim,bins=20)\n",
    "ax2.set_title('High Radial Accessability Crime Rate ')\n",
    "plt.show()\n",
    "#note differences in scale!"
   ]
  },
  {
   "cell_type": "code",
   "execution_count": 160,
   "metadata": {},
   "outputs": [
    {
     "data": {
      "text/plain": [
       "<function matplotlib.pyplot.show(*args, **kw)>"
      ]
     },
     "execution_count": 160,
     "metadata": {},
     "output_type": "execute_result"
    },
    {
     "data": {
      "image/png": "[encoded data removed]",
      "text/plain": [
       "<Figure size 432x288 with 1 Axes>"
      ]
     },
     "metadata": {
      "needs_background": "light"
     },
     "output_type": "display_data"
    }
   ],
   "source": [
    "plt.scatter(bhd.rad,bhd.crim)\n",
    "plt.title('Radial accessability vs crime rate')\n",
    "plt.ylabel('crime rate')\n",
    "plt.xlabel('radial accessability')\n",
    "plt.show"
   ]
  },
  {
   "cell_type": "markdown",
   "metadata": {},
   "source": [
    "lower left corner is high acessability right side column is low accessability"
   ]
  },
  {
   "cell_type": "code",
   "execution_count": 164,
   "metadata": {},
   "outputs": [
    {
     "data": {
      "image/png": "[encoded data removed]",
      "text/plain": [
       "<Figure size 1008x504 with 2 Axes>"
      ]
     },
     "metadata": {
      "needs_background": "light"
     },
     "output_type": "display_data"
    }
   ],
   "source": [
    "bhdradcrimbox=plt.figure(figsize=(14,7))\n",
    "ax1= bhdradcrimbox.add_subplot(121)      \n",
    "ax1.boxplot(bhdlowrad.crim, showfliers=False)\n",
    "ax1.set_title('Low Radial Accessability Crime Rate')\n",
    "ax2=bhdradcrimbox.add_subplot(122)\n",
    "ax2.boxplot(bhdhighrad.crim)\n",
    "ax2.set_title('High Radial Accessability Crime Rate ')\n",
    "plt.show()\n",
    "#note the differences in scale!"
   ]
  },
  {
   "cell_type": "code",
   "execution_count": 169,
   "metadata": {},
   "outputs": [
    {
     "data": {
      "image/png": "[encoded data removed]",
      "text/plain": [
       "<Figure size 432x288 with 1 Axes>"
      ]
     },
     "metadata": {
      "needs_background": "light"
     },
     "output_type": "display_data"
    }
   ],
   "source": [
    "plt.boxplot([bhdlowrad.crim,bhdhighrad.crim], showfliers=False)\n",
    "plt.title('Crime Rates by Radial Highway Accessability index')\n",
    "plt.xticks([1,2],['Low Rad','High Rad'])\n",
    "plt.show()"
   ]
  },
  {
   "cell_type": "code",
   "execution_count": 162,
   "metadata": {},
   "outputs": [
    {
     "data": {
      "image/png": "[encoded data removed]",
      "text/plain": [
       "<Figure size 1008x504 with 2 Axes>"
      ]
     },
     "metadata": {
      "needs_background": "light"
     },
     "output_type": "display_data"
    }
   ],
   "source": [
    "bhdradmedv=plt.figure(figsize=(14,7))\n",
    "ax1= bhdradmedv.add_subplot(121)      \n",
    "ax1.hist(bhdlowrad.medv,bins =15)\n",
    "ax1.set_title('Low radial accessability rate median housing prices')\n",
    "ax1.set_ylim\n",
    "ax1.set_xlabel('Median House Value')\n",
    "ax2=bhdradmedv.add_subplot(122)\n",
    "ax2.hist(bhdhighrad.medv,bins=15)\n",
    "ax2.set_title('High radial accessability rate median housing prices')\n",
    "ax2.set_xlabel('Median House Value')\n",
    "plt.show()"
   ]
  },
  {
   "cell_type": "markdown",
   "metadata": {},
   "source": [
    "low rad group has much lower peak at around 15 distribution from 0-30 (outliers at 50), high rad group has higher peak at 25"
   ]
  }
 ],
 "metadata": {
  "kernelspec": {
   "display_name": "Python 3",
   "language": "python",
   "name": "python3"
  },
  "language_info": {
   "codemirror_mode": {
    "name": "ipython",
    "version": 3
   },
   "file_extension": ".py",
   "mimetype": "text/x-python",
   "name": "python",
   "nbconvert_exporter": "python",
   "pygments_lexer": "ipython3",
   "version": "3.6.6"
  }
 },
 "nbformat": 4,
 "nbformat_minor": 2
}
